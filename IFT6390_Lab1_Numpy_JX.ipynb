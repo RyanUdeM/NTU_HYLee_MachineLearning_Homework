{
  "nbformat": 4,
  "nbformat_minor": 0,
  "metadata": {
    "kernelspec": {
      "display_name": "Python 3",
      "language": "python",
      "name": "python3"
    },
    "language_info": {
      "codemirror_mode": {
        "name": "ipython",
        "version": 3
      },
      "file_extension": ".py",
      "mimetype": "text/x-python",
      "name": "python",
      "nbconvert_exporter": "python",
      "pygments_lexer": "ipython3",
      "version": "3.7.2"
    },
    "colab": {
      "name": "IFT6390_Lab1_Numpy.ipynb",
      "version": "0.3.2",
      "provenance": [],
      "collapsed_sections": [
        "T7l1nHkKd7ys"
      ],
      "include_colab_link": true
    }
  },
  "cells": [
    {
      "cell_type": "markdown",
      "metadata": {
        "id": "view-in-github",
        "colab_type": "text"
      },
      "source": [
        "<a href=\"https://colab.research.google.com/github/RyanUdeM/NTU_HYLee_MachineLearning_Homework/blob/master/IFT6390_Lab1_Numpy_JX.ipynb\" target=\"_parent\"><img src=\"https://colab.research.google.com/assets/colab-badge.svg\" alt=\"Open In Colab\"/></a>"
      ]
    },
    {
      "cell_type": "markdown",
      "metadata": {
        "id": "pBzebW4qd7xZ",
        "colab_type": "text"
      },
      "source": [
        "# Python Review / Révision de Python  \n"
      ]
    },
    {
      "cell_type": "markdown",
      "metadata": {
        "id": "d6pe0ySad7xa",
        "colab_type": "text"
      },
      "source": [
        "Reviewing some basic concepts in Python\n",
        "\n",
        "* **`help` function**    \n",
        "    When needed, use `help` to get the information about a function and the parameters it takes (e.g. `help(range)`)\n",
        "    \n",
        "<hr />\n",
        "    \n",
        "Revoyons quelques concepts de base avec Python.\n",
        "\n",
        "* **fonction `help`**\n",
        "  \n",
        "  Au besoin, afin d'obtenir de l'information sur l'usage et les paramètres d'une fonction, utilisez help (ex: help(range)).\n"
      ]
    },
    {
      "cell_type": "code",
      "metadata": {
        "scrolled": true,
        "id": "bjsa1z9Fd7xb",
        "colab_type": "code",
        "colab": {
          "base_uri": "https://localhost:8080/",
          "height": 1000
        },
        "outputId": "8eef25ed-8861-475b-d57d-aab9b2a29301"
      },
      "source": [
        "help(range)"
      ],
      "execution_count": 1,
      "outputs": [
        {
          "output_type": "stream",
          "text": [
            "Help on class range in module builtins:\n",
            "\n",
            "class range(object)\n",
            " |  range(stop) -> range object\n",
            " |  range(start, stop[, step]) -> range object\n",
            " |  \n",
            " |  Return an object that produces a sequence of integers from start (inclusive)\n",
            " |  to stop (exclusive) by step.  range(i, j) produces i, i+1, i+2, ..., j-1.\n",
            " |  start defaults to 0, and stop is omitted!  range(4) produces 0, 1, 2, 3.\n",
            " |  These are exactly the valid indices for a list of 4 elements.\n",
            " |  When step is given, it specifies the increment (or decrement).\n",
            " |  \n",
            " |  Methods defined here:\n",
            " |  \n",
            " |  __bool__(self, /)\n",
            " |      self != 0\n",
            " |  \n",
            " |  __contains__(self, key, /)\n",
            " |      Return key in self.\n",
            " |  \n",
            " |  __eq__(self, value, /)\n",
            " |      Return self==value.\n",
            " |  \n",
            " |  __ge__(self, value, /)\n",
            " |      Return self>=value.\n",
            " |  \n",
            " |  __getattribute__(self, name, /)\n",
            " |      Return getattr(self, name).\n",
            " |  \n",
            " |  __getitem__(self, key, /)\n",
            " |      Return self[key].\n",
            " |  \n",
            " |  __gt__(self, value, /)\n",
            " |      Return self>value.\n",
            " |  \n",
            " |  __hash__(self, /)\n",
            " |      Return hash(self).\n",
            " |  \n",
            " |  __iter__(self, /)\n",
            " |      Implement iter(self).\n",
            " |  \n",
            " |  __le__(self, value, /)\n",
            " |      Return self<=value.\n",
            " |  \n",
            " |  __len__(self, /)\n",
            " |      Return len(self).\n",
            " |  \n",
            " |  __lt__(self, value, /)\n",
            " |      Return self<value.\n",
            " |  \n",
            " |  __ne__(self, value, /)\n",
            " |      Return self!=value.\n",
            " |  \n",
            " |  __new__(*args, **kwargs) from builtins.type\n",
            " |      Create and return a new object.  See help(type) for accurate signature.\n",
            " |  \n",
            " |  __reduce__(...)\n",
            " |      helper for pickle\n",
            " |  \n",
            " |  __repr__(self, /)\n",
            " |      Return repr(self).\n",
            " |  \n",
            " |  __reversed__(...)\n",
            " |      Return a reverse iterator.\n",
            " |  \n",
            " |  count(...)\n",
            " |      rangeobject.count(value) -> integer -- return number of occurrences of value\n",
            " |  \n",
            " |  index(...)\n",
            " |      rangeobject.index(value, [start, [stop]]) -> integer -- return index of value.\n",
            " |      Raise ValueError if the value is not present.\n",
            " |  \n",
            " |  ----------------------------------------------------------------------\n",
            " |  Data descriptors defined here:\n",
            " |  \n",
            " |  start\n",
            " |  \n",
            " |  step\n",
            " |  \n",
            " |  stop\n",
            "\n"
          ],
          "name": "stdout"
        }
      ]
    },
    {
      "cell_type": "markdown",
      "metadata": {
        "id": "wrLzbbdyd7xe",
        "colab_type": "text"
      },
      "source": [
        "* **Data structure `list`**.\n",
        "\n",
        "A list is a sequence of items (numbers, or strings, etc.) For e.g., `a = [1, 2, 3, 4]`\n",
        "\n",
        "***Ex 1: Create a list with the numbers 0-9 (including 9) in increasing order using `range`. Then create one in decreasing order.***\n",
        "\n",
        "<hr />\n",
        "\n",
        "\n",
        "* **Structure de données `list`**.\n",
        "\n",
        "Une liste est une séquence d'items (des entiers, des chaînes de caractères, etc.). Par exemple, `a = [1, 2, 3, 4]`\n",
        "\n",
        "***Ex 1: Créez une liste en ordre croissant des nombres allant de 0 à 9 (incluant 9) en utilisant la fonction `range`. Créez une liste décroissante des mêmes nombres.***"
      ]
    },
    {
      "cell_type": "code",
      "metadata": {
        "id": "UQcVIBKdd7xf",
        "colab_type": "code",
        "colab": {
          "base_uri": "https://localhost:8080/",
          "height": 34
        },
        "outputId": "496a1fd0-9631-40b6-90b1-60f044447a0f"
      },
      "source": [
        "# insert code here/ insérer votre code ici\n",
        "l = [i for i in range(10)]\n",
        "l"
      ],
      "execution_count": 4,
      "outputs": [
        {
          "output_type": "execute_result",
          "data": {
            "text/plain": [
              "[0, 1, 2, 3, 4, 5, 6, 7, 8, 9]"
            ]
          },
          "metadata": {
            "tags": []
          },
          "execution_count": 4
        }
      ]
    },
    {
      "cell_type": "markdown",
      "metadata": {
        "id": "OMum2Y_Cd7xh",
        "colab_type": "text"
      },
      "source": [
        "* **Slicing a list**\n",
        "\n",
        "You can \"choose\" some elements of a list using square brackets with the index of the elements you want For example, `l[0]` returns the 1st element of the list `l`; `l[:4]` returns the first 4 elements.\n",
        "\n",
        "In general, \"slicing\" is done using `l[a:b:c]`, where `a` is the first element index you want to slice, `b` is the last index, `c` is the spacing between indices you slice.\n",
        "\n",
        "***Ex 2: Create a list of the numbers 0-9. Slice it to return only even numbers.***  \n",
        "***Ex 3: Create a list of the numbers 0-9. Slice it to return only odd numbers.***\n",
        "\n",
        "<hr />\n",
        "\n",
        "* **Découper une liste**.\n",
        "\n",
        "Il est possible de sélectionner des éléments d'une liste en utilisant l'index de ces éléments. Par exemple, `l[0]` retourne le premier élément de la liste `l` et `l[:4]` retourne les 4 premiers éléments.\n",
        "\n",
        "De manière générale, le <em>découpage</em> est utilisé comme suit `l[a:b:c]` où `a` représente l'index du premier élément à découper, `b` est l'index du dernier élément et `c` est le saut avec lequel ceux-ci sont découpés. \n",
        "\n",
        "***Ex 2: Créez une liste de nombres allant de 0 à 9. Découper cette liste pour y inclure seulement les nombres pairs.***  \n",
        "***Ex 3: Créez une liste de nombres allant de 0 à 9. Découper cette liste pour y inclure seulement les nombres impairs.***"
      ]
    },
    {
      "cell_type": "code",
      "metadata": {
        "id": "7wjhc0dwd7xi",
        "colab_type": "code",
        "colab": {
          "base_uri": "https://localhost:8080/",
          "height": 52
        },
        "outputId": "2c0676da-c527-4aa4-929d-b76479878315"
      },
      "source": [
        "# insert code here/ insérer votre code ici\n",
        "odd = l[1::2]\n",
        "even = l[0::2]\n",
        "\n",
        "print(\"odd = \", odd)\n",
        "print(\"even = \", even)"
      ],
      "execution_count": 6,
      "outputs": [
        {
          "output_type": "stream",
          "text": [
            "odd =  [1, 3, 5, 7, 9]\n",
            "even =  [0, 2, 4, 6, 8]\n"
          ],
          "name": "stdout"
        }
      ]
    },
    {
      "cell_type": "markdown",
      "metadata": {
        "id": "AU_9QEmad7xl",
        "colab_type": "text"
      },
      "source": [
        "* **`for` loop**\n",
        "\n",
        "A `for` loop is a \"loop\" that runs until some condition is exhausted. For example, if `a` is a list of numbers,\n",
        "```\n",
        "for i in range(len(a)):\n",
        "    print(a[i])\n",
        "```\n",
        "prints each element in a.\n",
        "\n",
        "Note that the 1st line defines the loop condition, and every **indented** line after that defines what to do **for** each run of the loop (in this case, to print an element of `a`).\n",
        "\n",
        "***Ex 4: Create a list of numbers 0-9. Find its sum using a `for` loop, and print it.***\n",
        "\n",
        "\n",
        "<hr />\n",
        "\n",
        "\n",
        "* **Boucle `for`**\n",
        "\n",
        "Une boucle `for` est une <em>boucle</em> qui exécute jusqu'à ce qu'une condition soit remplie. Par exemple, si `a` est une liste de nombres:\n",
        "```\n",
        "for i in range(len(a)):\n",
        "    print(a[i])\n",
        "```\n",
        "\n",
        "imprime chaque élément de `a`.\n",
        "\n",
        "Notez que la première ligne définit la condition à remplir et chaque ligne ensuite contenant une indentation définit ce qu'il faut exécuter à chaque pas de la boucle (ici, il s'agit d'imprimer un élément de `a)`.\n",
        "\n",
        "\n",
        "***Ex 4: Créez une liste de nombres allant de 0 à 9. Trouvez la somme de ces éléments en utilisant une boucle `for` et ensuite imprimez la.***"
      ]
    },
    {
      "cell_type": "code",
      "metadata": {
        "id": "DWT_fu0Ld7xl",
        "colab_type": "code",
        "colab": {
          "base_uri": "https://localhost:8080/",
          "height": 34
        },
        "outputId": "a1b53b46-ecef-4890-c56e-35660e5f5e54"
      },
      "source": [
        "# insert code here/ insérer votre code ici\n",
        "my_sum = 0\n",
        "for i in l:\n",
        "    my_sum += i\n",
        "    \n",
        "my_sum\n",
        "\n"
      ],
      "execution_count": 9,
      "outputs": [
        {
          "output_type": "execute_result",
          "data": {
            "text/plain": [
              "45"
            ]
          },
          "metadata": {
            "tags": []
          },
          "execution_count": 9
        }
      ]
    },
    {
      "cell_type": "markdown",
      "metadata": {
        "id": "XC-0IrLYd7xo",
        "colab_type": "text"
      },
      "source": [
        "* **List of lists**\n",
        "\n",
        "A 2-dimensional matrix can be represented by a list of lists. For example,\n",
        "`m = [[1, 2], [3, 4], [5, 6], [7, 8]]` represents a 4x2 matrix.\n",
        "\n",
        "Each element of `m` can be accessed using square brackets. For example, `m[2]` returns the 3rd row of `m`; `m[2][0]` returns the 1st element in the 3rd row.\n",
        "\n",
        "***Ex 5: Create the above m. Calculate the sum of all its elements using a/multiple `for` loops.***\n",
        "\n",
        "\n",
        "<hr />\n",
        "\n",
        "\n",
        "* **Une liste de listes**\n",
        "\n",
        "Une matrice à 2 dimensions peut être représentée par une liste de listes. Par exemple, `m = [[1, 2], [3, 4], [5, 6], [7, 8]]` représente une matrice de dimension 4x2.\n",
        "\n",
        "Pour chaque élément de `m`; `m[2][0]` retourne le premier élément de la troisième ligne.\n",
        "\n",
        "***Ex 5: Créez ladite liste `m`. Calculez la somme de tous ses éléments en utilisant des boucles `for` imbriquées.***"
      ]
    },
    {
      "cell_type": "code",
      "metadata": {
        "id": "k9d_k-ESd7xo",
        "colab_type": "code",
        "colab": {
          "base_uri": "https://localhost:8080/",
          "height": 34
        },
        "outputId": "41a10051-8c3f-4bf1-b3e1-af6480e40bd6"
      },
      "source": [
        "# insert code here/ insérer votre code ici\n",
        "m = [[1, 2], [3, 4], [5, 6], [7, 8]]\n",
        "m_sum = 0\n",
        "for i in m:\n",
        "    for j in i:\n",
        "        m_sum+=j\n",
        "        \n",
        "m_sum"
      ],
      "execution_count": 15,
      "outputs": [
        {
          "output_type": "execute_result",
          "data": {
            "text/plain": [
              "36"
            ]
          },
          "metadata": {
            "tags": []
          },
          "execution_count": 15
        }
      ]
    },
    {
      "cell_type": "markdown",
      "metadata": {
        "id": "6Jr5lYLOd7xr",
        "colab_type": "text"
      },
      "source": [
        "* **Defining functions with `def`**.      \n",
        "    this is how you define a function to add one to a number\n",
        "\n",
        "        def plus_one(s):\n",
        "            return s + 1\n",
        "\n",
        "    note the indentation! whitespace matters in Python!\n",
        "    \n",
        "<hr />\n",
        "    \n",
        "* **Définir des fonctions avec `def`**.      \n",
        "    Voici comment on pourrait définir une fonction \"plus un\":\n",
        "\n",
        "        def plus_un(s):\n",
        "            return s + 1\n",
        "\n",
        "    Notez l'importance de l'indentation!"
      ]
    },
    {
      "cell_type": "markdown",
      "metadata": {
        "id": "PBXNsDYqd7xr",
        "colab_type": "text"
      },
      "source": [
        "# Numpy\n",
        "\n",
        "*Note*: if you're familiar with MATLAB, [this page](http://www.scipy.org/NumPy_for_Matlab_Users) will allow you to see the corresponding numpy terms to functions you already know.\n",
        "\n",
        "*Note:* Si vous êtes familier avec MATLAB, cette [page web](http://www.scipy.org/NumPy_for_Matlab_Users) vous permettra de consulter les principales correspondances matlab/numpy en terme de syntaxe.\n"
      ]
    },
    {
      "cell_type": "markdown",
      "metadata": {
        "id": "gagUo7Crd7xs",
        "colab_type": "text"
      },
      "source": [
        "## Basics / Bases\n",
        "\n",
        "Numpy is a package in Python. It needs to be imported.\n",
        "\n",
        "Numpy est une librairie Python. Il faut ainsi l'importer."
      ]
    },
    {
      "cell_type": "code",
      "metadata": {
        "id": "ULy4S1qad7xt",
        "colab_type": "code",
        "colab": {}
      },
      "source": [
        "import numpy as np"
      ],
      "execution_count": 0,
      "outputs": []
    },
    {
      "cell_type": "markdown",
      "metadata": {
        "id": "yrHGwdhXd7xw",
        "colab_type": "text"
      },
      "source": [
        "All documentation for every function in numpy can be found in its [docs](https://docs.scipy.org/doc/numpy/reference/). It is a good practice to keep referring to the docs to understand any function you use, and its proper syntax.\n",
        "\n",
        "***Ex 6: using `np.arange`, create an array of the numbers 0-9***\n",
        "\n",
        "<hr />\n",
        "\n",
        "Toute la documentation pour chacune des fonctions numpy se retrouve ici [docs](https://docs.scipy.org/doc/numpy/reference/). Une bonne habitude est de se réferer à la documentation afin de bien comprendre une fonction utilisée et sa syntaxe.\n",
        "\n",
        "***Ex 6: utilisez `np.arange` afin de créer un tableau des nombres 0 à 9***"
      ]
    },
    {
      "cell_type": "code",
      "metadata": {
        "id": "dKPkCdy9d7xw",
        "colab_type": "code",
        "colab": {
          "base_uri": "https://localhost:8080/",
          "height": 34
        },
        "outputId": "6f5d82a3-8ddd-458d-98bd-deb3ad34bb0b"
      },
      "source": [
        "# insert code here/ insérer votre code ici\n",
        "array1 = np.arange(10)\n",
        "array1"
      ],
      "execution_count": 18,
      "outputs": [
        {
          "output_type": "execute_result",
          "data": {
            "text/plain": [
              "array([0, 1, 2, 3, 4, 5, 6, 7, 8, 9])"
            ]
          },
          "metadata": {
            "tags": []
          },
          "execution_count": 18
        }
      ]
    },
    {
      "cell_type": "markdown",
      "metadata": {
        "id": "HQUVAHyBd7x0",
        "colab_type": "text"
      },
      "source": [
        "\n",
        "***Ex 7: print the `type` of the array***\n",
        "\n",
        "***Ex 8: print the `type` of the first element in the array***\n",
        "\n",
        "***Ex 9: print the `shape` of the array***\n",
        "\n",
        "<hr />\n",
        "\n",
        "***Ex 7: imprimez le `type` de votre tableau***\n",
        "\n",
        "***Ex 8: imprimez le `type` du premier élément de votre tableau***\n",
        "\n",
        "***Ex 9: imprimez la dimension (`shape`) du tableau***\n",
        "\n"
      ]
    },
    {
      "cell_type": "code",
      "metadata": {
        "id": "Hk_O-034d7x0",
        "colab_type": "code",
        "colab": {
          "base_uri": "https://localhost:8080/",
          "height": 69
        },
        "outputId": "cc712917-8f6b-4967-a065-5a05c63768ad"
      },
      "source": [
        "# insert code here/ insérer votre code ici\n",
        "print(type(array1))\n",
        "print(type(array1[0]))\n",
        "print(array1.shape)"
      ],
      "execution_count": 22,
      "outputs": [
        {
          "output_type": "stream",
          "text": [
            "<class 'numpy.ndarray'>\n",
            "<class 'numpy.int64'>\n",
            "(10,)\n"
          ],
          "name": "stdout"
        }
      ]
    },
    {
      "cell_type": "markdown",
      "metadata": {
        "id": "HUxOpxcCd7x4",
        "colab_type": "text"
      },
      "source": [
        "We see that the array is of the type `numpy.ndarray`: \"Numpy n-dimensional array\", while each element in it is an integer.\n",
        "\n",
        "***Ex 10: Print the numbers at the 3rd to the 6th index in the array using slicing `[:]`***\n",
        "\n",
        "<hr />\n",
        "\n",
        "On remarque que le tableau est de type `numpy.ndarray`: \"Numpy n-dimensional array\" et que chaque élément est un entier.\n",
        "\n",
        "***Ex 10: Accédez aux éléments 3 à 6 à l'aide de l'opérateur «`[:]`».***"
      ]
    },
    {
      "cell_type": "code",
      "metadata": {
        "id": "758_y9fMd7x5",
        "colab_type": "code",
        "colab": {
          "base_uri": "https://localhost:8080/",
          "height": 34
        },
        "outputId": "2d33497d-2562-437a-d18d-493e238592e8"
      },
      "source": [
        "# insert code here/ insérer votre code ici\n",
        "print(array1[2:6])"
      ],
      "execution_count": 24,
      "outputs": [
        {
          "output_type": "stream",
          "text": [
            "[2 3 4 5]\n"
          ],
          "name": "stdout"
        }
      ]
    },
    {
      "cell_type": "markdown",
      "metadata": {
        "id": "JL0sZGCMd7x8",
        "colab_type": "text"
      },
      "source": [
        "***Ex 11: Create a list of the numbers 0-9, convert it into a numpy array using `np.array`***\n",
        "\n",
        "<hr />\n",
        "\n",
        "***Ex 11: Créez une liste des nombres 0 à 9 et convertissez la en tableau en utilisant `np.array`***"
      ]
    },
    {
      "cell_type": "code",
      "metadata": {
        "id": "p7m_nkMKd7x8",
        "colab_type": "code",
        "colab": {
          "base_uri": "https://localhost:8080/",
          "height": 34
        },
        "outputId": "fdd44dd8-bf4c-41db-8519-c1729fa73676"
      },
      "source": [
        "# insert code here/ insérer votre code ici\n",
        "array2 = np.array([i for i in range(10)])\n",
        "array2"
      ],
      "execution_count": 28,
      "outputs": [
        {
          "output_type": "execute_result",
          "data": {
            "text/plain": [
              "array([0, 1, 2, 3, 4, 5, 6, 7, 8, 9])"
            ]
          },
          "metadata": {
            "tags": []
          },
          "execution_count": 28
        }
      ]
    },
    {
      "cell_type": "markdown",
      "metadata": {
        "id": "fdJS_Mp4d7x_",
        "colab_type": "text"
      },
      "source": [
        "***Ex 12: Create a list of lists of size 4x2 (like the one we did earlier). Convert it into a numpy array, check its shape.***\n",
        "\n",
        "<hr />\n",
        "\n",
        "***Ex 12: Créez une liste de listes de dimension 4x2 (comme celle que nous avons définie précédemment). Convertissez la en tableau et vérifiez sa dimension.***"
      ]
    },
    {
      "cell_type": "code",
      "metadata": {
        "id": "5grfYu2_d7yA",
        "colab_type": "code",
        "colab": {
          "base_uri": "https://localhost:8080/",
          "height": 34
        },
        "outputId": "4575c35c-2378-45b5-f351-4873ebfeb197"
      },
      "source": [
        "# insert code here/ insérer votre code ici\n",
        "matrix = np.array([x for x in range(1,9)]).reshape((4,2))\n",
        "matrix.shape\n"
      ],
      "execution_count": 36,
      "outputs": [
        {
          "output_type": "execute_result",
          "data": {
            "text/plain": [
              "(4, 2)"
            ]
          },
          "metadata": {
            "tags": []
          },
          "execution_count": 36
        }
      ]
    },
    {
      "cell_type": "markdown",
      "metadata": {
        "id": "JRzu3DrUd7yC",
        "colab_type": "text"
      },
      "source": [
        "***Ex 13: Find the sum of all the elements in this numpy array using `np.sum`. Then, find the sum along the 1st axis.*** Think about what shape the sum must be, and then verify.\n",
        "\n",
        "<hr />\n",
        "\n",
        "***Ex 13: Trouvez la somme de tous les éléments du tableau en utilisant `np.sum`. Ensuite, trouvez la somme selon la première dimension*** Pensez à la dimension que cette somme devrait avoir et vérifiez la.\n"
      ]
    },
    {
      "cell_type": "code",
      "metadata": {
        "id": "sSjxqdlKd7yD",
        "colab_type": "code",
        "colab": {
          "base_uri": "https://localhost:8080/",
          "height": 34
        },
        "outputId": "4cd1c054-e792-46ba-d632-16e58095abf6"
      },
      "source": [
        "# insert code here/ insérer votre code ici\n",
        "np.sum(matrix)\n",
        "np.sum(matrix, axis=1) #sum of each row\n",
        "np.sum(matrix, axis=0) #sum of each col"
      ],
      "execution_count": 42,
      "outputs": [
        {
          "output_type": "execute_result",
          "data": {
            "text/plain": [
              "array([16, 20])"
            ]
          },
          "metadata": {
            "tags": []
          },
          "execution_count": 42
        }
      ]
    },
    {
      "cell_type": "markdown",
      "metadata": {
        "id": "tQP17PGhd7yF",
        "colab_type": "text"
      },
      "source": [
        "## Statistics/ Statistiques"
      ]
    },
    {
      "cell_type": "markdown",
      "metadata": {
        "id": "EiFcgNPld7yG",
        "colab_type": "text"
      },
      "source": [
        "Now we're going to generate data points and verify statistics\n",
        "\n",
        "***Ex 14: Create a 2D array `o` of shape (100, 2) filled with the number 1 using `np.ones`***\n",
        "\n",
        "<hr />\n",
        "\n",
        "Nous allons maintenant générer des points et vérifiez certaines de leurs statistiques.\n",
        "\n",
        "***Ex 14: Créez un tableau 2D `o` de dimension (100, 2) composé uniquement de 1 en utilisant `np.ones`***"
      ]
    },
    {
      "cell_type": "code",
      "metadata": {
        "id": "VhJqR2zpd7yG",
        "colab_type": "code",
        "colab": {
          "base_uri": "https://localhost:8080/",
          "height": 34
        },
        "outputId": "40c85571-e007-4c45-c73e-7d15450e4289"
      },
      "source": [
        "# insert code here/ insérer votre code ici\n",
        "o = np.ones((100,2))\n",
        "o.shape\n"
      ],
      "execution_count": 63,
      "outputs": [
        {
          "output_type": "execute_result",
          "data": {
            "text/plain": [
              "(100, 2)"
            ]
          },
          "metadata": {
            "tags": []
          },
          "execution_count": 63
        }
      ]
    },
    {
      "cell_type": "markdown",
      "metadata": {
        "id": "zf6-sAS-d7yI",
        "colab_type": "text"
      },
      "source": [
        "***Ex 15: Create a 2D array `n` of shape (100, 2) filled with samples from a normal distribution with mean 2.5 and standard deviation 1.2 using `np.random.normal`.***\n",
        "\n",
        "<hr />\n",
        "\n",
        "***Ex 15: Créez une tableau 2D `n` de dimension (100,2) composés de points provenant d'une distribution de loi normale avec une moyenne de 2.5 et un écart-type de 1.2. Utilisez la fonction `np.random.normal`.***"
      ]
    },
    {
      "cell_type": "code",
      "metadata": {
        "id": "zhzt-schd7yJ",
        "colab_type": "code",
        "colab": {
          "base_uri": "https://localhost:8080/",
          "height": 34
        },
        "outputId": "4216e2a9-46e4-49a0-b64d-60f27e96b471"
      },
      "source": [
        "# insert code here/ insérer votre code ici\n",
        "n = np.array([np.random.normal(loc=2.5,scale=1.2) for _ in range(200)]).reshape((100,2))\n",
        "n.shape\n"
      ],
      "execution_count": 68,
      "outputs": [
        {
          "output_type": "execute_result",
          "data": {
            "text/plain": [
              "(100, 2)"
            ]
          },
          "metadata": {
            "tags": []
          },
          "execution_count": 68
        }
      ]
    },
    {
      "cell_type": "markdown",
      "metadata": {
        "id": "BsSKRq6-d7yN",
        "colab_type": "text"
      },
      "source": [
        "***Ex 16: Using slicing, assign the first column of `o` as values from the 2nd column of `n`***\n",
        "\n",
        "<hr />\n",
        "\n",
        "***Ex 16: En utilisant le découpage, remplacez les valeurs de la première colonne de `o` avec les valeurs de la deuxième colonne de `n`.***\n"
      ]
    },
    {
      "cell_type": "code",
      "metadata": {
        "id": "qzi_72lzd7yO",
        "colab_type": "code",
        "colab": {}
      },
      "source": [
        "# insert code here/ insérer votre code ici\n",
        "o[:,0] = n[:,1]\n",
        "\n"
      ],
      "execution_count": 0,
      "outputs": []
    },
    {
      "cell_type": "markdown",
      "metadata": {
        "id": "rAAsSJOVd7yT",
        "colab_type": "text"
      },
      "source": [
        "***Ex 17: Calculate the mean and std of ech column of `o` using `np.mean` and `np.std`.*** Verify that they are (almost) correct.\n",
        "\n",
        "<hr />\n",
        "\n",
        "***Ex 17: Calculez la moyenne et l'écart-type de chaque colonne de `o` en utilisant `np.mean` et `np.std`.*** Vérifiez si ces valeurs sont approximativement exactes."
      ]
    },
    {
      "cell_type": "code",
      "metadata": {
        "id": "Hq1br9Xxd7yU",
        "colab_type": "code",
        "colab": {
          "base_uri": "https://localhost:8080/",
          "height": 86
        },
        "outputId": "9215b238-b57f-4a2b-fb22-aafae3bd6061"
      },
      "source": [
        "# insert code here/ insérer votre code ici\n",
        "print(\"mean of o[:,0] = \", np.mean(o[:,0]))\n",
        "print(\"std of o[:,0]= \", np.std(o[:,0]))\n",
        "\n",
        "print(\"mean of o[:,1] = \", np.mean(o[:,1]))\n",
        "print(\"std of o[:,1]= \", np.std(o[:,1]))"
      ],
      "execution_count": 76,
      "outputs": [
        {
          "output_type": "stream",
          "text": [
            "mean of o[:,0] =  2.3439470562065545\n",
            "std of o[:,0]=  1.1384651605965184\n",
            "mean of o[:,1] =  1.0\n",
            "std of o[:,1]=  0.0\n"
          ],
          "name": "stdout"
        }
      ]
    },
    {
      "cell_type": "markdown",
      "metadata": {
        "id": "4b2EKXDQd7yX",
        "colab_type": "text"
      },
      "source": [
        "# Fun with the IRIS dataset / Exploration du jeu de données IRIS"
      ]
    },
    {
      "cell_type": "markdown",
      "metadata": {
        "id": "RqlUIqsRd7yY",
        "colab_type": "text"
      },
      "source": [
        "We're now going to work with some real data! We'll use the [IRIS](http://en.wikipedia.org/wiki/Iris_flower_data_set) dataset which you can download [here](http://www.iro.umontreal.ca/%7Edift3395/files/iris.txt).\n",
        "<hr />\n",
        "\n",
        "Nous allons maintenant travailler avec de vraies données! Nous allons utiliser le jeu de données [IRIS](http://en.wikipedia.org/wiki/Iris_flower_data_set) dont vous pouvez télécharger [ici](http://www.iro.umontreal.ca/%7Edift3395/files/iris.txt)."
      ]
    },
    {
      "cell_type": "code",
      "metadata": {
        "id": "YqUG1_abd7yY",
        "colab_type": "code",
        "colab": {}
      },
      "source": [
        "iris = np.loadtxt('http://www.iro.umontreal.ca/~dift3395/files/iris.txt')"
      ],
      "execution_count": 0,
      "outputs": []
    },
    {
      "cell_type": "markdown",
      "metadata": {
        "id": "4gVBDeOrd7yb",
        "colab_type": "text"
      },
      "source": [
        "The IRIS dataset consists of 150 data points. Each data point is a description of a flower using 4 features - petal length, petal width, sepal length, sepal width. The dataset also contains the species of the flower. Thus, the samples form the 1st axis of this np array, and (the features + the species) form the 2nd axis of the array.\n",
        "\n",
        "Let's play around with the *array* of iris data\n",
        "\n",
        "* print the shape of the array\n",
        "* print all the elements of the array\n",
        "\n",
        "\n",
        "<hr />\n",
        "\n",
        "Le dataset IRIS consiste en 150 points de données. Chaque exemple (point) représente une description d'une fleur à l'aide de 4 variables, soient la longueur des pétales, la largeur des pétales, la longueur des sépales et la largeur des sépales. Ce jeu de données contient également l'espèce de la fleur. La première dimension représente ainsi les différents exemples et la deuxième dimension représente les variables et l'espèce de ces exemples.\n",
        "\n",
        "\n",
        "Explorons avez le tableau du iris dataset\n",
        "\n",
        "* imprimez la dimension du tableau\n",
        "* imprimez les éléments du tableau"
      ]
    },
    {
      "cell_type": "code",
      "metadata": {
        "id": "0wBwLYUJd7yf",
        "colab_type": "code",
        "colab": {
          "base_uri": "https://localhost:8080/",
          "height": 34
        },
        "outputId": "61828a2b-38cf-457c-c2bb-b689f2eed2c7"
      },
      "source": [
        "print(iris.shape)\n",
        "#print(iris)"
      ],
      "execution_count": 84,
      "outputs": [
        {
          "output_type": "stream",
          "text": [
            "(150, 5)\n"
          ],
          "name": "stdout"
        }
      ]
    },
    {
      "cell_type": "markdown",
      "metadata": {
        "id": "RFK7lp0hd7yj",
        "colab_type": "text"
      },
      "source": [
        "Accessing an element in a `np.array` is similar but not the same as a python `list`\n",
        "\n",
        "***Ex 18: Get the first element (i.e. index 0,0) of `iris` using `[][]`.***\n",
        "\n",
        "***Ex 19: Get the first element of the `np.array` using just `[,]` syntax.***\n",
        "\n",
        "<hr />\n",
        "\n",
        "\n",
        "Acccéder un élément d'un tableau est similaire, mais pas tout à fait pareil à une liste python\n",
        "\n",
        "***Ex 18: Obtenez le premier élément (i.e. index 0,0) du dataset iris en utilisant `[][]`.***\n",
        "\n",
        "***Ex 19: Obtenez le premier élément du tableau en utilisant la syntaxe `[,]`.*** \n"
      ]
    },
    {
      "cell_type": "code",
      "metadata": {
        "id": "SrBHuX3Fd7yk",
        "colab_type": "code",
        "colab": {
          "base_uri": "https://localhost:8080/",
          "height": 34
        },
        "outputId": "36af9df3-991c-4c9d-cecc-fdbe30e69607"
      },
      "source": [
        "# insert code here/ insérer votre code ici\n",
        "iris[0][0]\n",
        "iris[0,0]"
      ],
      "execution_count": 87,
      "outputs": [
        {
          "output_type": "execute_result",
          "data": {
            "text/plain": [
              "5.1"
            ]
          },
          "metadata": {
            "tags": []
          },
          "execution_count": 87
        }
      ]
    },
    {
      "cell_type": "markdown",
      "metadata": {
        "id": "geCvChmid7ym",
        "colab_type": "text"
      },
      "source": [
        "The advantage of `numpy` slicing is that you can access multiple dimensions (`axis`) at the same time\n",
        "\n",
        "***Ex 20: Slice the 4 features of the first 10 samples of the IRIS dataset.***\n",
        "\n",
        "<hr />\n",
        "\n",
        "L'avantage du découpage `numpy` est qu'il est possible d'accéder plusieurs dimensions (`axis`) simultanément\n",
        "\n",
        "\n",
        "***Ex 20: Découpez les 4 variables des 10 premiers exemples du dataset IRIS.***"
      ]
    },
    {
      "cell_type": "code",
      "metadata": {
        "id": "oQfLbgkKd7yn",
        "colab_type": "code",
        "colab": {
          "base_uri": "https://localhost:8080/",
          "height": 191
        },
        "outputId": "4adab3c0-a102-4d81-8bd7-495fedc2e70e"
      },
      "source": [
        "# insert code here/ insérer votre code ici\n",
        "iris[:10, :4]"
      ],
      "execution_count": 89,
      "outputs": [
        {
          "output_type": "execute_result",
          "data": {
            "text/plain": [
              "array([[5.1, 3.5, 1.4, 0.2],\n",
              "       [4.9, 3. , 1.4, 0.2],\n",
              "       [4.7, 3.2, 1.3, 0.2],\n",
              "       [4.6, 3.1, 1.5, 0.2],\n",
              "       [5. , 3.6, 1.4, 0.2],\n",
              "       [5.4, 3.9, 1.7, 0.4],\n",
              "       [4.6, 3.4, 1.4, 0.3],\n",
              "       [5. , 3.4, 1.5, 0.2],\n",
              "       [4.4, 2.9, 1.4, 0.2],\n",
              "       [4.9, 3.1, 1.5, 0.1]])"
            ]
          },
          "metadata": {
            "tags": []
          },
          "execution_count": 89
        }
      ]
    },
    {
      "cell_type": "markdown",
      "metadata": {
        "id": "Rx_6baFGd7yp",
        "colab_type": "text"
      },
      "source": [
        "***Ex 21: Using negative index, print the last column of `iris`.***\n",
        "\n",
        "<hr />\n",
        "\n",
        "***Ex 21: Utilisez une indexation négative afin d'imprimer la dernière colonne de `iris`.***"
      ]
    },
    {
      "cell_type": "code",
      "metadata": {
        "id": "EKZyUId2d7yq",
        "colab_type": "code",
        "colab": {
          "base_uri": "https://localhost:8080/",
          "height": 173
        },
        "outputId": "f03c7e17-5466-48da-bec0-a1215e806dbd"
      },
      "source": [
        "# insert code here/ insérer votre code ici\n",
        "iris[:, -1]"
      ],
      "execution_count": 90,
      "outputs": [
        {
          "output_type": "execute_result",
          "data": {
            "text/plain": [
              "array([1., 1., 1., 1., 1., 1., 1., 1., 1., 1., 1., 1., 1., 1., 1., 1., 1.,\n",
              "       1., 1., 1., 1., 1., 1., 1., 1., 1., 1., 1., 1., 1., 1., 1., 1., 1.,\n",
              "       1., 1., 1., 1., 1., 1., 1., 1., 1., 1., 1., 1., 1., 1., 1., 1., 2.,\n",
              "       2., 2., 2., 2., 2., 2., 2., 2., 2., 2., 2., 2., 2., 2., 2., 2., 2.,\n",
              "       2., 2., 2., 2., 2., 2., 2., 2., 2., 2., 2., 2., 2., 2., 2., 2., 2.,\n",
              "       2., 2., 2., 2., 2., 2., 2., 2., 2., 2., 2., 2., 2., 2., 2., 3., 3.,\n",
              "       3., 3., 3., 3., 3., 3., 3., 3., 3., 3., 3., 3., 3., 3., 3., 3., 3.,\n",
              "       3., 3., 3., 3., 3., 3., 3., 3., 3., 3., 3., 3., 3., 3., 3., 3., 3.,\n",
              "       3., 3., 3., 3., 3., 3., 3., 3., 3., 3., 3., 3., 3., 3.])"
            ]
          },
          "metadata": {
            "tags": []
          },
          "execution_count": 90
        }
      ]
    },
    {
      "cell_type": "markdown",
      "metadata": {
        "id": "T7l1nHkKd7ys",
        "colab_type": "text"
      },
      "source": [
        "## Some useful `numpy` functions / Quelques fonctions `numpy` utiles"
      ]
    },
    {
      "cell_type": "markdown",
      "metadata": {
        "id": "CmqLujc1d7yt",
        "colab_type": "text"
      },
      "source": [
        "**min**, **max** : minimum and maximum elements of an array (can also be done across an `axis`)\n",
        "\n",
        "<hr />\n",
        "\n",
        "**min**, **max** : éléments minimum and maximum d'un tableau (peut également se faire selon une dimension `axis`)\n",
        "\n",
        "<br/>"
      ]
    },
    {
      "cell_type": "markdown",
      "metadata": {
        "id": "pxR_hte9d7yt",
        "colab_type": "text"
      },
      "source": [
        "**argmax**, **argmin** : the indices of the minimum and maximum elements of an array (can also be done across an `axis`)\n",
        "\n",
        "<hr />\n",
        "\n",
        "**argmax**, **argmin** : les indices des minimums ou maximums d'un tableau (peut également se faire selon une dimension `axis`)\n",
        "\n",
        "<br/>"
      ]
    },
    {
      "cell_type": "markdown",
      "metadata": {
        "id": "Xsge0wtBd7yu",
        "colab_type": "text"
      },
      "source": [
        "**abs** : absolute value\n",
        "\n",
        "<hr />\n",
        "\n",
        "**abs** : valeur absolue\n",
        "\n",
        "<br/>"
      ]
    },
    {
      "cell_type": "markdown",
      "metadata": {
        "id": "DZtlnPg7d7yv",
        "colab_type": "text"
      },
      "source": [
        "<b>pow or **</b> : exponentiation\n",
        "\n",
        "<hr />\n",
        "\n",
        "<b>pow or **</b> : exponentiation\n",
        "\n",
        "<br/>"
      ]
    },
    {
      "cell_type": "markdown",
      "metadata": {
        "id": "-uyTz0WXd7yw",
        "colab_type": "text"
      },
      "source": [
        "**np.random.shuffle** : randomly shuffle the elements in the array\n",
        "\n",
        "<hr />\n",
        "\n",
        "**np.random.shuffle** : mélanger de manière aléatoire les éléments d'un tableau\n",
        "\n",
        "<br/>"
      ]
    },
    {
      "cell_type": "markdown",
      "metadata": {
        "id": "TwM9J9WSDnQR",
        "colab_type": "text"
      },
      "source": [
        ""
      ]
    },
    {
      "cell_type": "markdown",
      "metadata": {
        "id": "P_F9u80yd7yx",
        "colab_type": "text"
      },
      "source": [
        "`numpy` has many more useful mathematical functions such as:\n",
        "\n",
        "`numpy` possède plusieurs autres fonction mathématiques utiles telles que:\n",
        "\n",
        "* numpy.mean\n",
        "* numpy.std\n",
        "* numpy.cov\n",
        "* numpy.dot\n",
        "* numpy.invert\n",
        "* numpy.unique\n",
        "* numpy.vsplit\n",
        "* numpy.vstack\n",
        "* numpy.hsplit\n",
        "* numpy.hstack\n",
        "\n",
        "You can find all of them on the [documentation](http://docs.scipy.org/doc/numpy/reference/index.html)\n",
        "\n",
        "***Ex Play: Play around with these!***\n",
        "\n",
        "Elle se retrouvent toutes dans la [documentation](http://docs.scipy.org/doc/numpy/reference/index.html)\n",
        "\n",
        "***Ex Play: Explorez avec ces fonctions!***"
      ]
    },
    {
      "cell_type": "markdown",
      "metadata": {
        "id": "Ko3-dKFTd7yy",
        "colab_type": "text"
      },
      "source": [
        "# Plotting the flowers with Matplotlib"
      ]
    },
    {
      "cell_type": "markdown",
      "metadata": {
        "id": "k6IcIjWOd7yy",
        "colab_type": "text"
      },
      "source": [
        "`matplotlib` is a great library for creating charts and graphs. Here are some practical function to visualize a dataset like `iris`.\n",
        "\n",
        "<hr />\n",
        "\n",
        "`matplotlib` est une excellente librairie pour créer des diagrammes et des graphiques. Voici quelques fonctions pratiques qui vous aidrons à visualiser le dataset `iris`. "
      ]
    },
    {
      "cell_type": "code",
      "metadata": {
        "id": "uc6cmC5dd7yz",
        "colab_type": "code",
        "colab": {}
      },
      "source": [
        "import matplotlib.pyplot as plt"
      ],
      "execution_count": 0,
      "outputs": []
    },
    {
      "cell_type": "markdown",
      "metadata": {
        "id": "x2_2Dmnid7y1",
        "colab_type": "text"
      },
      "source": [
        "***Ex 22: Plot the histogram of the 2nd feature of every sample in the IRIS dataset using `plt.hist`. Make sure to include both x and y labels and a title.***\n",
        "\n",
        "<hr />\n",
        "\n",
        "***Ex 22: Tracez l'histogramme de la deuxième variable de chaque exemple du dataset IRIS en utilisant `plt.hist`. Assurez-vous d'inclure un titre ainsi que les étiquettes d'axes.***"
      ]
    },
    {
      "cell_type": "code",
      "metadata": {
        "id": "E9pF17cmd7y1",
        "colab_type": "code",
        "colab": {
          "base_uri": "https://localhost:8080/",
          "height": 313
        },
        "outputId": "19f3778b-085f-475b-cdaf-727596da7709"
      },
      "source": [
        "# insert code here/ insérer votre code ici\n",
        "plt.hist(iris[:,1])\n",
        "plt.xlabel('x_2')\n",
        "plt.ylabel('quantity')\n",
        "plt.title('feature 2')"
      ],
      "execution_count": 99,
      "outputs": [
        {
          "output_type": "execute_result",
          "data": {
            "text/plain": [
              "Text(0.5, 1.0, 'feature 2')"
            ]
          },
          "metadata": {
            "tags": []
          },
          "execution_count": 99
        },
        {
          "output_type": "display_data",
          "data": {
            "image/png": "[encoded data removed]",
            "text/plain": [
              "<Figure size 432x288 with 1 Axes>"
            ]
          },
          "metadata": {
            "tags": []
          }
        }
      ]
    },
    {
      "cell_type": "markdown",
      "metadata": {
        "id": "CHOULcvwd7y3",
        "colab_type": "text"
      },
      "source": [
        "***Ex 23: Plot a scatterplot, with the 3rd feature as the x-axis and the 4th feature as the y-axis using `plt.scatter`. Make sure to include both x and y labels and a title.***\n",
        "\n",
        "<hr />\n",
        "\n",
        "***Ex 23: Tracez un nuage de points avec la troisième variable sur l'axe des x et la quatrième variable sur l'axe des y en utilisant `plt.scatter`. Assurez-vous d'inclure un titre ainsi que les étiquettes d'axes.***\n"
      ]
    },
    {
      "cell_type": "code",
      "metadata": {
        "id": "2Zkgyn7Qd7y3",
        "colab_type": "code",
        "colab": {
          "base_uri": "https://localhost:8080/",
          "height": 313
        },
        "outputId": "45fa8df0-448a-486d-986d-bc56e757c62d"
      },
      "source": [
        "# insert code here/ insérer votre code ici\n",
        "plt.scatter(iris[:,2],iris[:,3])\n",
        "plt.xlabel(\"x_3\")\n",
        "plt.ylabel(\"x_4\")\n",
        "plt.title(\"feature 3 and 4\")"
      ],
      "execution_count": 105,
      "outputs": [
        {
          "output_type": "execute_result",
          "data": {
            "text/plain": [
              "Text(0.5, 1.0, 'feature 3 and 4')"
            ]
          },
          "metadata": {
            "tags": []
          },
          "execution_count": 105
        },
        {
          "output_type": "display_data",
          "data": {
            "image/png": "[encoded data removed]",
            "text/plain": [
              "<Figure size 432x288 with 1 Axes>"
            ]
          },
          "metadata": {
            "tags": []
          }
        }
      ]
    },
    {
      "cell_type": "markdown",
      "metadata": {
        "id": "LPIGBm4Rd7y6",
        "colab_type": "text"
      },
      "source": [
        "***Ex 24: Plot the same scatter plot as above, but this time - color the points according to their corresponding \"species\". Make sure to include both x and y labels and a title.***\n",
        "\n",
        "<hr/>\n",
        "\n",
        "***Ex 24: Tracez le même nuage de points mais, colorez les points correspondant aux différentes espèces. Assurez-vous d'inclure un titre ainsi que les étiquettes d'axes.***"
      ]
    },
    {
      "cell_type": "code",
      "metadata": {
        "id": "nevoZ8dMd7y6",
        "colab_type": "code",
        "colab": {
          "base_uri": "https://localhost:8080/",
          "height": 313
        },
        "outputId": "eaa8b2fc-39b1-4ffb-f525-3e9671324ae9"
      },
      "source": [
        "# insert code here/ insérer votre code ici\n",
        "# insert code here/ insérer votre code ici\n",
        "plt.scatter(iris[:,2],iris[:,3], c=iris[:, -1]) #feature3 as x, feature4 as y, color accoriding to label\n",
        "plt.xlabel(\"x_3\")\n",
        "plt.ylabel(\"x_4\")\n",
        "plt.title(\"feature 3 and 4\")"
      ],
      "execution_count": 104,
      "outputs": [
        {
          "output_type": "execute_result",
          "data": {
            "text/plain": [
              "Text(0.5, 1.0, 'feature 3 and 4')"
            ]
          },
          "metadata": {
            "tags": []
          },
          "execution_count": 104
        },
        {
          "output_type": "display_data",
          "data": {
            "image/png": "[encoded data removed]",
            "text/plain": [
              "<Figure size 432x288 with 1 Axes>"
            ]
          },
          "metadata": {
            "tags": []
          }
        }
      ]
    },
    {
      "cell_type": "markdown",
      "metadata": {
        "id": "EvhvaB3yd7y8",
        "colab_type": "text"
      },
      "source": [
        "***Ex 25: Plot an errorbar around the average of each of the 4 features across the data samples, using `plt.errorbar`***\n",
        "\n",
        "<hr/>\n",
        "\n",
        "***Ex 25: Tracer une barre d'erreur autour des moyennes de chacune des 4 variables en utilisant `plt.errorbar`.***"
      ]
    },
    {
      "cell_type": "code",
      "metadata": {
        "id": "Z3Or_pGWd7y9",
        "colab_type": "code",
        "colab": {
          "base_uri": "https://localhost:8080/",
          "height": 300
        },
        "outputId": "474e3783-8991-48eb-94ad-ec2078119262"
      },
      "source": [
        "# insert code here/ insérer votre code ici\n",
        "mean = np.mean(iris[:, :4], axis=0)\n",
        "std = np.std(iris[:, :4], axis=0)\n",
        "plt.errorbar([1, 2, 3, 4], mean, yerr=std)\n",
        "plt.xlabel('feature')\n",
        "plt.ylabel('average')"
      ],
      "execution_count": 107,
      "outputs": [
        {
          "output_type": "execute_result",
          "data": {
            "text/plain": [
              "Text(0, 0.5, 'average')"
            ]
          },
          "metadata": {
            "tags": []
          },
          "execution_count": 107
        },
        {
          "output_type": "display_data",
          "data": {
            "image/png": "[encoded data removed]",
            "text/plain": [
              "<Figure size 432x288 with 1 Axes>"
            ]
          },
          "metadata": {
            "tags": []
          }
        }
      ]
    },
    {
      "cell_type": "markdown",
      "metadata": {
        "id": "MuShtqPYd7y_",
        "colab_type": "text"
      },
      "source": [
        "***Ex 26: Create a sine wave. Create some gaussian noise. Plot the sine wave, and the sine wave with the noise added to it.***\n",
        "\n",
        "Try to create this image:\n",
        "\n",
        "<hr/>\n",
        "\n",
        "***Ex 26: Créez une courbe  sinusoïdale. Ajoutez-y maintenant du bruit gaussien. Tracez la courbe sinusoïdale sans et avec le bruit ajouté.***\n",
        "\n",
        "Essayez de recréer cette image:\n",
        "\n",
        "![reproduce](https://drive.google.com/uc?id=1p_eBFrYEZ9u_Vu2BFisfaQLLoSZbZqjS)"
      ]
    },
    {
      "cell_type": "code",
      "metadata": {
        "id": "GzIl4Xsxd7zA",
        "colab_type": "code",
        "colab": {
          "base_uri": "https://localhost:8080/",
          "height": 300
        },
        "outputId": "1abc8928-77a8-46ba-a756-86f064ce3842"
      },
      "source": [
        "# insert code here/ insérer votre code ici\n",
        "x = np.arange(-3,3,0.1)\n",
        "#x = np.linspace(-3, 3, 100)\n",
        "sin = np.sin(x)\n",
        "\n",
        "plt.plot(x, sin)\n",
        "\n",
        "\n",
        "noises = [np.random.normal(loc=0, scale=.1) for _ in range(len(x))]\n",
        "#noise = np.random.randn(100)*0.1\n",
        "\n",
        "new_sin = sin + noises\n",
        "\n",
        "\n",
        "\n",
        "plt.plot(x,new_sin,linestyle=\"dashed\")\n",
        "#plt.plot(x, f + noise,'--')\n",
        "plt.grid(True) # add a grid\n",
        "plt.xlabel('x')\n",
        "plt.ylabel('f(x)')\n",
        "plt.legend(('f(x) without noise','f(x) with noise'))"
      ],
      "execution_count": 138,
      "outputs": [
        {
          "output_type": "execute_result",
          "data": {
            "text/plain": [
              "<matplotlib.legend.Legend at 0x7f690f606940>"
            ]
          },
          "metadata": {
            "tags": []
          },
          "execution_count": 138
        },
        {
          "output_type": "display_data",
          "data": {
            "image/png": "[encoded data removed]",
            "text/plain": [
              "<Figure size 432x288 with 1 Axes>"
            ]
          },
          "metadata": {
            "tags": []
          }
        }
      ]
    },
    {
      "cell_type": "markdown",
      "metadata": {
        "id": "nas2MKpCd7zC",
        "colab_type": "text"
      },
      "source": [
        "### This is just the beginning!\n",
        "\n",
        "You now have some of the basics down but you'll need more practise. Explore new functions and let's go through more tutorials!\n",
        "\n",
        "---\n",
        "\n",
        "### Ce n'est que le début!\n",
        "\n",
        "Vous possédez désormais certaines bases, mais il vous faut plus de pratique. Explorez de nouvelles fonctions et faisons plus de tutoriels!\n"
      ]
    }
  ]
}